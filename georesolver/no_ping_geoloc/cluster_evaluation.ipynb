{
 "cells": [
  {
   "cell_type": "code",
   "execution_count": 2,
   "metadata": {},
   "outputs": [
    {
     "name": "stderr",
     "output_type": "stream",
     "text": [
      "\u001b[32m2025-04-14 15:17:56.969\u001b[0m | \u001b[34m\u001b[1mDEBUG   \u001b[0m | \u001b[36mgeoresolver.clickhouse.main\u001b[0m:\u001b[36mexecute\u001b[0m:\u001b[36m120\u001b[0m - \u001b[34m\u001b[1mquery=GetVPs; database=GeoResolver; table_name=vps_filtered  limit=None\u001b[0m\n",
      "\u001b[32m2025-04-14 15:17:57.041\u001b[0m | \u001b[34m\u001b[1mDEBUG   \u001b[0m | \u001b[36mgeoresolver.clickhouse.main\u001b[0m:\u001b[36mexecute\u001b[0m:\u001b[36m120\u001b[0m - \u001b[34m\u001b[1mquery=GetVPs; database=GeoResolver; table_name=vps_filtered  limit=None\u001b[0m\n"
     ]
    }
   ],
   "source": [
    "import folium\n",
    "import numpy as np\n",
    "import matplotlib.pyplot as plt\n",
    "\n",
    "from sklearn import metrics\n",
    "from shapely.geometry import Polygon\n",
    "from sklearn.cluster import DBSCAN\n",
    "from scipy.spatial import ConvexHull\n",
    "\n",
    "from collections import defaultdict\n",
    "from math import pi, cos\n",
    "from dataclasses import dataclass\n",
    "from loguru import logger\n",
    "\n",
    "from georesolver.common.geoloc import distance\n",
    "from georesolver.clickhouse.queries import load_targets, load_vps\n",
    "from georesolver.common.files_utils import load_json, load_pickle, load_csv\n",
    "from georesolver.common.ip_addresses_utils import get_prefix_from_ip\n",
    "from georesolver.common.settings import PathSettings, ClickhouseSettings\n",
    "\n",
    "path_settings = PathSettings()\n",
    "clickhouse_settings = ClickhouseSettings()\n",
    "\n",
    "\n",
    "@dataclass(frozen=True)\n",
    "class ResultsScore:\n",
    "    client_granularity: str\n",
    "    answer_granularity: str\n",
    "    scores: list\n",
    "    inconsistent_mappings: list\n",
    "\n",
    "\n",
    "targets = load_targets(clickhouse_settings.VPS_FILTERED_TABLE)\n",
    "targets_coordinates = {}\n",
    "for target in targets:\n",
    "    targets_coordinates[target[\"addr\"]] = (\n",
    "        target[\"lat\"],\n",
    "        target[\"lon\"],\n",
    "        target[\"country_code\"],\n",
    "    )\n",
    "\n",
    "vps = load_vps(clickhouse_settings.VPS_FILTERED_TABLE)\n",
    "vps_coordinates = {}\n",
    "vps_per_subnet = defaultdict(list)\n",
    "for vp in vps:\n",
    "    vps_coordinates[vp[\"addr\"]] = (\n",
    "        vp[\"lat\"],\n",
    "        vp[\"lon\"],\n",
    "        vp[\"country_code\"],\n",
    "    )\n",
    "\n",
    "    subnet = get_prefix_from_ip(vp[\"addr\"])\n",
    "    vps_per_subnet[subnet].append(vp[\"addr\"])\n",
    "\n",
    "\n",
    "def plotDot(lat, lon, map, color=\"blue\"):\n",
    "    \"\"\"input: series that contains a numeric named latitude and a numeric named longitude\n",
    "    this function creates a CircleMarker and adds it to your this_map\"\"\"\n",
    "    folium.CircleMarker(location=[lat, lon], radius=2, weight=5, color=color).add_to(\n",
    "        map\n",
    "    )\n",
    "\n",
    "\n",
    "def find_exterior_points(points):\n",
    "    # Create a numpy array from the list of points\n",
    "    points_array = np.array(points)\n",
    "\n",
    "    # Compute the convex hull\n",
    "    hull = ConvexHull(points_array)\n",
    "\n",
    "    # Extract the indices of exterior points\n",
    "    exterior_indices = hull.vertices\n",
    "\n",
    "    # Get the exterior points\n",
    "    exterior_points = points_array[exterior_indices]\n",
    "\n",
    "    return exterior_points, hull\n",
    "\n",
    "\n",
    "def get_median_dist_error(target_results: dict, key: str) -> float:\n",
    "    \"\"\"return the median distance error\"\"\"\n",
    "    return round(\n",
    "        np.median([r[key][\"d_error\"] for r in target_results.values()]),\n",
    "        2,\n",
    "    )"
   ]
  },
  {
   "cell_type": "code",
   "execution_count": 3,
   "metadata": {},
   "outputs": [
    {
     "ename": "RuntimeError",
     "evalue": "could not load json file: [Errno 2] No such file or directory: '/storage/hugo/georesolver/georesolver/common/../results/evaluation_1M_hostnames_answer_bgp_prefix_max_bgp_prefix_clusters.pickle'",
     "output_type": "error",
     "traceback": [
      "\u001b[0;31m---------------------------------------------------------------------------\u001b[0m",
      "\u001b[0;31mFileNotFoundError\u001b[0m                         Traceback (most recent call last)",
      "File \u001b[0;32m/storage/hugo/georesolver/georesolver/common/files_utils.py:194\u001b[0m, in \u001b[0;36mload_pickle\u001b[0;34m(input_file)\u001b[0m\n\u001b[1;32m    193\u001b[0m \u001b[38;5;28;01mtry\u001b[39;00m:\n\u001b[0;32m--> 194\u001b[0m     \u001b[38;5;28;01mwith\u001b[39;00m \u001b[43minput_file\u001b[49m\u001b[38;5;241;43m.\u001b[39;49m\u001b[43mopen\u001b[49m\u001b[43m(\u001b[49m\u001b[38;5;124;43m\"\u001b[39;49m\u001b[38;5;124;43mrb\u001b[39;49m\u001b[38;5;124;43m\"\u001b[39;49m\u001b[43m)\u001b[49m \u001b[38;5;28;01mas\u001b[39;00m f:\n\u001b[1;32m    195\u001b[0m         \u001b[38;5;28;01mreturn\u001b[39;00m pickle\u001b[38;5;241m.\u001b[39mload(f)\n",
      "File \u001b[0;32m/usr/lib/python3.10/pathlib.py:1119\u001b[0m, in \u001b[0;36mPath.open\u001b[0;34m(self, mode, buffering, encoding, errors, newline)\u001b[0m\n\u001b[1;32m   1118\u001b[0m     encoding \u001b[38;5;241m=\u001b[39m io\u001b[38;5;241m.\u001b[39mtext_encoding(encoding)\n\u001b[0;32m-> 1119\u001b[0m \u001b[38;5;28;01mreturn\u001b[39;00m \u001b[38;5;28;43mself\u001b[39;49m\u001b[38;5;241;43m.\u001b[39;49m\u001b[43m_accessor\u001b[49m\u001b[38;5;241;43m.\u001b[39;49m\u001b[43mopen\u001b[49m\u001b[43m(\u001b[49m\u001b[38;5;28;43mself\u001b[39;49m\u001b[43m,\u001b[49m\u001b[43m \u001b[49m\u001b[43mmode\u001b[49m\u001b[43m,\u001b[49m\u001b[43m \u001b[49m\u001b[43mbuffering\u001b[49m\u001b[43m,\u001b[49m\u001b[43m \u001b[49m\u001b[43mencoding\u001b[49m\u001b[43m,\u001b[49m\u001b[43m \u001b[49m\u001b[43merrors\u001b[49m\u001b[43m,\u001b[49m\n\u001b[1;32m   1120\u001b[0m \u001b[43m                           \u001b[49m\u001b[43mnewline\u001b[49m\u001b[43m)\u001b[49m\n",
      "\u001b[0;31mFileNotFoundError\u001b[0m: [Errno 2] No such file or directory: '/storage/hugo/georesolver/georesolver/common/../results/evaluation_1M_hostnames_answer_bgp_prefix_max_bgp_prefix_clusters.pickle'",
      "\nDuring handling of the above exception, another exception occurred:\n",
      "\u001b[0;31mRuntimeError\u001b[0m                              Traceback (most recent call last)",
      "Cell \u001b[0;32mIn[3], line 1\u001b[0m\n\u001b[0;32m----> 1\u001b[0m eval_results \u001b[38;5;241m=\u001b[39m \u001b[43mload_pickle\u001b[49m\u001b[43m(\u001b[49m\n\u001b[1;32m      2\u001b[0m \u001b[43m    \u001b[49m\u001b[43mpath_settings\u001b[49m\u001b[38;5;241;43m.\u001b[39;49m\u001b[43mRESULTS_PATH\u001b[49m\n\u001b[1;32m      3\u001b[0m \u001b[43m    \u001b[49m\u001b[38;5;241;43m/\u001b[39;49m\u001b[43m \u001b[49m\u001b[38;5;124;43m\"\u001b[39;49m\u001b[38;5;124;43mevaluation_1M_hostnames_answer_bgp_prefix_max_bgp_prefix_clusters.pickle\u001b[39;49m\u001b[38;5;124;43m\"\u001b[39;49m\n\u001b[1;32m      4\u001b[0m \u001b[43m)\u001b[49m\n",
      "File \u001b[0;32m/storage/hugo/georesolver/georesolver/common/files_utils.py:197\u001b[0m, in \u001b[0;36mload_pickle\u001b[0;34m(input_file)\u001b[0m\n\u001b[1;32m    195\u001b[0m         \u001b[38;5;28;01mreturn\u001b[39;00m pickle\u001b[38;5;241m.\u001b[39mload(f)\n\u001b[1;32m    196\u001b[0m \u001b[38;5;28;01mexcept\u001b[39;00m \u001b[38;5;167;01mFileNotFoundError\u001b[39;00m \u001b[38;5;28;01mas\u001b[39;00m e:\n\u001b[0;32m--> 197\u001b[0m     \u001b[38;5;28;01mraise\u001b[39;00m \u001b[38;5;167;01mRuntimeError\u001b[39;00m(\u001b[38;5;124mf\u001b[39m\u001b[38;5;124m\"\u001b[39m\u001b[38;5;124mcould not load json file: \u001b[39m\u001b[38;5;132;01m{\u001b[39;00me\u001b[38;5;132;01m}\u001b[39;00m\u001b[38;5;124m\"\u001b[39m)\n",
      "\u001b[0;31mRuntimeError\u001b[0m: could not load json file: [Errno 2] No such file or directory: '/storage/hugo/georesolver/georesolver/common/../results/evaluation_1M_hostnames_answer_bgp_prefix_max_bgp_prefix_clusters.pickle'"
     ]
    }
   ],
   "source": [
    "eval_results = load_pickle(\n",
    "    path_settings.RESULTS_PATH\n",
    "    / \"evaluation_1M_hostnames_answer_bgp_prefix_max_bgp_prefix_clusters.pickle\"\n",
    ")"
   ]
  },
  {
   "cell_type": "code",
   "execution_count": null,
   "metadata": {},
   "outputs": [],
   "source": [
    "single_cluster_results = {}\n",
    "\n",
    "for target_addr, target_result in eval_results.items():\n",
    "    if len(target_result[\"ecs_vps_per_cluster\"]) > 2:\n",
    "        continue\n",
    "\n",
    "    no_ping_vp = target_result[\"ecs_vps\"][0][0]\n",
    "    vp_lat, vp_lon, vp_country_code = vps_coordinates[no_ping_vp]\n",
    "    target_lat, target_lon, target_country_code = targets_coordinates[target_addr]\n",
    "\n",
    "    d_error = distance(vp_lat, target_lat, vp_lon, target_lon)\n",
    "    target_result[\"no_ping_vp_d_error\"] = {}\n",
    "    target_result[\"no_ping_vp_d_error\"][\"d_error\"] = d_error\n",
    "\n",
    "    if target_country_code == vp_country_code:\n",
    "        target_result[\"correct_country_geoloc\"] = True\n",
    "    else:\n",
    "        target_result[\"correct_country_geoloc\"] = False\n",
    "\n",
    "    single_cluster_results[target_addr] = target_result"
   ]
  },
  {
   "cell_type": "markdown",
   "metadata": {},
   "source": [
    "# overall cluster analysis"
   ]
  },
  {
   "cell_type": "code",
   "execution_count": null,
   "metadata": {},
   "outputs": [
    {
     "name": "stderr",
     "output_type": "stream",
     "text": [
      "\u001b[32m2024-07-04 12:48:44.933\u001b[0m | \u001b[1mINFO    \u001b[0m | \u001b[36m__main__\u001b[0m:\u001b[36m<module>\u001b[0m:\u001b[36m1\u001b[0m - \u001b[1mNo ping geolocation over:: 759 targets\u001b[0m\n",
      "\u001b[32m2024-07-04 12:48:44.939\u001b[0m | \u001b[1mINFO    \u001b[0m | \u001b[36m__main__\u001b[0m:\u001b[36m<module>\u001b[0m:\u001b[36m3\u001b[0m - \u001b[1mNo ping cluster:: median_error=104.24 [km]\u001b[0m\n",
      "\u001b[32m2024-07-04 12:48:44.941\u001b[0m | \u001b[1mINFO    \u001b[0m | \u001b[36m__main__\u001b[0m:\u001b[36m<module>\u001b[0m:\u001b[36m6\u001b[0m - \u001b[1mNo ping geolocation over (single cluster):: 578 targets\u001b[0m\n",
      "\u001b[32m2024-07-04 12:48:44.946\u001b[0m | \u001b[1mINFO    \u001b[0m | \u001b[36m__main__\u001b[0m:\u001b[36m<module>\u001b[0m:\u001b[36m12\u001b[0m - \u001b[1mNo ping cluster:: median_error=34.81 [km]\u001b[0m\n"
     ]
    }
   ],
   "source": [
    "logger.info(f\"No ping geolocation over:: {len(eval_results)} targets\")\n",
    "no_ping_cluster_m_d = get_median_dist_error(eval_results, \"no_ping_cluster_vp\")\n",
    "logger.info(f\"No ping cluster:: median_error={round(no_ping_cluster_m_d, 2)} [km]\")\n",
    "\n",
    "\n",
    "logger.info(\n",
    "    f\"No ping geolocation over (single cluster):: {len(single_cluster_results)} targets\"\n",
    ")\n",
    "single_no_ping_cluster_m_d = get_median_dist_error(\n",
    "    single_cluster_results, \"no_ping_vp_d_error\"\n",
    ")\n",
    "logger.info(\n",
    "    f\"No ping cluster:: median_error={round(single_no_ping_cluster_m_d, 2)} [km]\"\n",
    ")"
   ]
  },
  {
   "cell_type": "markdown",
   "metadata": {},
   "source": [
    "# cluster country validation"
   ]
  },
  {
   "cell_type": "code",
   "execution_count": null,
   "metadata": {},
   "outputs": [
    {
     "name": "stderr",
     "output_type": "stream",
     "text": [
      "\u001b[32m2024-07-04 13:09:15.926\u001b[0m | \u001b[1mINFO    \u001b[0m | \u001b[36m__main__\u001b[0m:\u001b[36m<module>\u001b[0m:\u001b[36m9\u001b[0m - \u001b[1mCorrect country geoloc with single cluster:: 97.06 [%]\u001b[0m\n"
     ]
    }
   ],
   "source": [
    "correct_country_geoloc = 0\n",
    "for target, target_result in single_cluster_results.items():\n",
    "    if target_result[\"correct_country_geoloc\"]:\n",
    "        correct_country_geoloc += 1\n",
    "\n",
    "correct_country_geoloc = round(\n",
    "    correct_country_geoloc / len(single_cluster_results) * 100, 2\n",
    ")\n",
    "logger.info(\n",
    "    f\"Correct country geoloc with single cluster:: {correct_country_geoloc} [%]\"\n",
    ")"
   ]
  },
  {
   "cell_type": "markdown",
   "metadata": {},
   "source": [
    "# single cluster analysis"
   ]
  },
  {
   "cell_type": "code",
   "execution_count": null,
   "metadata": {},
   "outputs": [],
   "source": [
    "fig, ax1 = plt.subplots(1, 1)\n",
    "\n",
    "x, y = ecdf([r[\"no_ping_cluster_vp\"][\"d_error\"] for r in eval_results.values()])\n",
    "ax1.plot(x, y, label=f\"No ping cluster VP\")\n",
    "\n",
    "plt.xlabel(\"geolocation error [km]\")\n",
    "plt.ylabel(\"proportion of targets\")\n",
    "plt.legend(loc=\"upper left\", fontsize=8)\n",
    "plt.xscale(\"log\")\n",
    "plt.grid()\n",
    "plt.title(\n",
    "    f\"CDF: Geolocation error \\n maximum BGP prefix per CDN hostname selection\",\n",
    "    fontsize=13,\n",
    ")\n",
    "plt.savefig(path_settings.FIGURE_PATH / \"geoloc_error_max_bgp_prefix.pdf\")\n",
    "plt.show()"
   ]
  },
  {
   "cell_type": "code",
   "execution_count": null,
   "metadata": {},
   "outputs": [
    {
     "ename": "KeyError",
     "evalue": "'answer_bgp_prefix'",
     "output_type": "error",
     "traceback": [
      "\u001b[0;31m---------------------------------------------------------------------------\u001b[0m",
      "\u001b[0;31mKeyError\u001b[0m                                  Traceback (most recent call last)",
      "Cell \u001b[0;32mIn[8], line 2\u001b[0m\n\u001b[1;32m      1\u001b[0m granularity \u001b[38;5;241m=\u001b[39m \u001b[38;5;124m\"\u001b[39m\u001b[38;5;124manswer_bgp_prefix\u001b[39m\u001b[38;5;124m\"\u001b[39m\n\u001b[0;32m----> 2\u001b[0m results \u001b[38;5;241m=\u001b[39m \u001b[43meval_results\u001b[49m\u001b[43m[\u001b[49m\u001b[43mgranularity\u001b[49m\u001b[43m]\u001b[49m\n\u001b[1;32m      4\u001b[0m fig, ax1 \u001b[38;5;241m=\u001b[39m plt\u001b[38;5;241m.\u001b[39msubplots(\u001b[38;5;241m1\u001b[39m, \u001b[38;5;241m1\u001b[39m)\n\u001b[1;32m      6\u001b[0m x, y \u001b[38;5;241m=\u001b[39m ecdf([\u001b[38;5;28mlen\u001b[39m(r[\u001b[38;5;124m\"\u001b[39m\u001b[38;5;124mfiltered_vps_per_cluster\u001b[39m\u001b[38;5;124m\"\u001b[39m]) \u001b[38;5;28;01mfor\u001b[39;00m r \u001b[38;5;129;01min\u001b[39;00m results\u001b[38;5;241m.\u001b[39mvalues()])\n",
      "\u001b[0;31mKeyError\u001b[0m: 'answer_bgp_prefix'"
     ]
    }
   ],
   "source": [
    "granularity = \"answer_bgp_prefix\"\n",
    "results = eval_results[granularity]\n",
    "\n",
    "fig, ax1 = plt.subplots(1, 1)\n",
    "\n",
    "x, y = ecdf([len(r[\"filtered_vps_per_cluster\"]) for r in results.values()])\n",
    "ax1.plot(x, y, label=\"ECS cluster selection\")\n",
    "\n",
    "avg_cost_cluster = round(\n",
    "    np.mean([[len(r[\"filtered_vps_per_cluster\"]) for r in results.values()]]),\n",
    "    2,\n",
    ")\n",
    "median_cost_cluster = round(\n",
    "    np.median([[len(r[\"filtered_vps_per_cluster\"]) for r in results.values()]]),\n",
    "    2,\n",
    ")\n",
    "\n",
    "logger.info(f\"Avg Measurement cost cluster selection = {avg_cost_cluster}\")\n",
    "logger.info(f\"Median Measurement cost cluster selection = {median_cost_cluster}\")\n",
    "\n",
    "plt.xlabel(\"Measurement cost\")\n",
    "plt.ylabel(\"proportion of targets\")\n",
    "plt.legend(loc=\"upper left\", fontsize=8)\n",
    "plt.grid()\n",
    "plt.title(\n",
    "    f\"CDF: Measurement cost\",\n",
    "    fontsize=13,\n",
    ")\n",
    "# plt.savefig(path_settings.FIGURE_PATH / \"measurement_cost_cluster_selection.pdf\")\n",
    "plt.show()"
   ]
  }
 ],
 "metadata": {
  "kernelspec": {
   "display_name": "georesolver-zEHwcSfH-py3.10",
   "language": "python",
   "name": "python3"
  },
  "language_info": {
   "codemirror_mode": {
    "name": "ipython",
    "version": 3
   },
   "file_extension": ".py",
   "mimetype": "text/x-python",
   "name": "python",
   "nbconvert_exporter": "python",
   "pygments_lexer": "ipython3",
   "version": "3.10.12"
  }
 },
 "nbformat": 4,
 "nbformat_minor": 2
}
