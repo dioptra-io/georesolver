{
 "cells": [
  {
   "cell_type": "code",
   "execution_count": 13,
   "metadata": {},
   "outputs": [
    {
     "name": "stdout",
     "output_type": "stream",
     "text": [
      "46016\n"
     ]
    }
   ],
   "source": [
    "from geogiant.clickhouse import Query\n",
    "from collections import defaultdict\n",
    "from loguru import logger\n",
    "\n",
    "from geogiant.common.files_utils import load_json, load_csv, dump_csv\n",
    "from geogiant.common.settings import PathSettings, ClickhouseSettings\n",
    "\n",
    "path_settings = PathSettings()\n",
    "clickhouse_settings = ClickhouseSettings()\n",
    "\n",
    "\n",
    "hostname_ranks = load_csv(path_settings.DATASET / \"202402.csv\")\n",
    "org_per_hostname = load_json(path_settings.DATASET / \"ecs_hostnames_organization.json\")"
   ]
  },
  {
   "cell_type": "markdown",
   "metadata": {},
   "source": [
    "# From single subnet resolution to VPs subnets resolution"
   ]
  },
  {
   "cell_type": "markdown",
   "metadata": {},
   "source": [
    "## Filter Anycast prefixes"
   ]
  },
  {
   "cell_type": "code",
   "execution_count": 7,
   "metadata": {},
   "outputs": [],
   "source": [
    "def load_anycatch_data() -> None:\n",
    "    \"\"\"get all anycast prefixes detected by anycatch and remove them\"\"\"\n",
    "    anycast_prefixes = set()\n",
    "    with path_settings.ANYCATCH_DATA.open(\"r\") as f:\n",
    "        for row in f.readlines():\n",
    "            prefix = row.split(\",\")[0].strip(\"\\n\")\n",
    "            anycast_prefixes.add(prefix)\n",
    "\n",
    "    return anycast_prefixes\n",
    "\n",
    "\n",
    "anycatch_db = load_anycatch_data()\n",
    "\n",
    "hostname_per_org = defaultdict(set)\n",
    "anycast_hostnames = set()\n",
    "\n",
    "unicast_hostnames = set()\n",
    "for hostname, bgp_prefix_per_org in org_per_hostname.items():\n",
    "    anycast_hostname = False\n",
    "    for org, bgp_prefixes in bgp_prefix_per_org.items():\n",
    "        for bgp_prefix in bgp_prefixes:\n",
    "            if bgp_prefix in anycatch_db:\n",
    "                anycast_hostnames.add(hostname)\n",
    "                anycast_hostname = True\n",
    "\n",
    "    if not anycast_hostname:\n",
    "        hostname_per_org[org].add(hostname)\n",
    "        unicast_hostnames.add(hostname)\n",
    "\n",
    "\n",
    "hostname_per_org_sorted = sorted(\n",
    "    hostname_per_org.items(), key=lambda x: len(x[1]), reverse=True\n",
    ")"
   ]
  },
  {
   "cell_type": "code",
   "execution_count": 15,
   "metadata": {},
   "outputs": [
    {
     "name": "stderr",
     "output_type": "stream",
     "text": [
      "\u001b[32m2024-04-21 16:11:43.320\u001b[0m | \u001b[1mINFO    \u001b[0m | \u001b[36m__main__\u001b[0m:\u001b[36m<module>\u001b[0m:\u001b[36m1\u001b[0m - \u001b[1mUnicast hostnames = 120963\u001b[0m\n",
      "\u001b[32m2024-04-21 16:11:43.325\u001b[0m | \u001b[1mINFO    \u001b[0m | \u001b[36m__main__\u001b[0m:\u001b[36m<module>\u001b[0m:\u001b[36m2\u001b[0m - \u001b[1mAnycast hostnames = 257600\u001b[0m\n",
      "\u001b[32m2024-04-21 16:11:43.327\u001b[0m | \u001b[1mINFO    \u001b[0m | \u001b[36m__main__\u001b[0m:\u001b[36m<module>\u001b[0m:\u001b[36m4\u001b[0m - \u001b[1mNb orgs = 3932\u001b[0m\n"
     ]
    }
   ],
   "source": [
    "logger.info(f\"Unicast hostnames = {len(unicast_hostnames)}\")\n",
    "logger.info(f\"Anycast hostnames = {len(anycast_hostnames)}\")\n",
    "\n",
    "logger.info(f\"Nb orgs = {len(hostname_per_org)}\")"
   ]
  },
  {
   "cell_type": "markdown",
   "metadata": {},
   "source": [
    "## Filter per organization"
   ]
  },
  {
   "cell_type": "code",
   "execution_count": null,
   "metadata": {},
   "outputs": [],
   "source": [
    "import random\n",
    "from collections import OrderedDict\n",
    "\n",
    "rank_per_hostname = {}\n",
    "for hostname_with_rank in hostname_ranks[1:]:\n",
    "    hostname, rank = hostname_with_rank.split(\",\")\n",
    "    hostname = hostname.split(\"//\")[-1]\n",
    "    rank_per_hostname[hostname] = rank\n",
    "\n",
    "logger.info(len(rank_per_hostname))\n",
    "\n",
    "max_hostnames_per_org = 1_500\n",
    "\n",
    "selected_hostnames_per_org = defaultdict(set)\n",
    "for org, total_hostnames in hostname_per_org_sorted:\n",
    "    hostname_per_org_per_rank = OrderedDict()\n",
    "    for hostname in total_hostnames:\n",
    "        try:\n",
    "            rank = rank_per_hostname[hostname]\n",
    "        except KeyError:\n",
    "            continue\n",
    "\n",
    "        try:\n",
    "            hostname_per_org_per_rank[int(rank)].append(hostname)\n",
    "        except KeyError:\n",
    "            hostname_per_org_per_rank[int(rank)] = [hostname]\n",
    "\n",
    "    # sort per rank\n",
    "    hostname_per_org_per_rank = OrderedDict(\n",
    "        sorted(hostname_per_org_per_rank.items(), key=lambda x: x[0], reverse=True)\n",
    "    )\n",
    "\n",
    "    original_nb_hostnames = set()\n",
    "    for rank, hostnames in hostname_per_org_per_rank.items():\n",
    "        original_nb_hostnames.update(hostnames)\n",
    "        if len(selected_hostnames_per_org[org]) < max_hostnames_per_org:\n",
    "            remaining_hostnames_to_select = max_hostnames_per_org - len(\n",
    "                selected_hostnames_per_org[org]\n",
    "            )\n",
    "            selected_hostnames_per_org[org].update(\n",
    "                random.sample(\n",
    "                    hostnames,\n",
    "                    (\n",
    "                        remaining_hostnames_to_select\n",
    "                        if len(hostnames) > remaining_hostnames_to_select\n",
    "                        else len(hostnames)\n",
    "                    ),\n",
    "                )\n",
    "            )\n",
    "\n",
    "total_selected_hostnames = set()\n",
    "for org, selected_hostnames in selected_hostnames_per_org.items():\n",
    "    logger.info(\n",
    "        f\"{org}, nb_hostnames={len(selected_hostnames)}, {len(set(hostname_per_org[org]))=}\"\n",
    "    )\n",
    "\n",
    "    total_selected_hostnames.update(selected_hostnames)\n",
    "\n",
    "total_selected_hostnames = list(total_selected_hostnames)\n",
    "random.shuffle(total_selected_hostnames)\n",
    "dump_csv(\n",
    "    total_selected_hostnames, path_settings.DATASET / \"ecs_selected_hostnames_test.csv\"\n",
    ")\n",
    "\n",
    "logger.info(f\"total number of organization:: {len(selected_hostnames_per_org)}\")\n",
    "logger.info(f\"total number of hostnames:: {len(total_selected_hostnames)}\")"
   ]
  },
  {
   "cell_type": "code",
   "execution_count": 32,
   "metadata": {},
   "outputs": [
    {
     "name": "stdout",
     "output_type": "stream",
     "text": [
      "AMAZON-02 49478\n",
      "GOOGLE 8242\n",
      "MICROSOFT-CORP-MSN-AS-BLOCK 6036\n",
      "HETZNER-AS 3267\n",
      "OVH 2957\n",
      "AKAMAI-ASN1 2377\n",
      "AMAZON-AES 2291\n",
      "DIGITALOCEAN-ASN 2121\n",
      "INCAPSULA 2088\n",
      "AKAMAI-AS 1945\n",
      "ALIBABA-CN-NET 1874\n",
      "GOOGLE-CLOUD-PLATFORM 1559\n",
      "12\n"
     ]
    }
   ],
   "source": [
    "count = 0\n",
    "large_org_hostnames = set()\n",
    "for org, hostnames in hostname_per_org_sorted:\n",
    "    if len(hostnames) > 1500:\n",
    "        count += 1\n",
    "        large_org_hostnames.update(hostnames)\n",
    "        print(org, len(hostnames))\n",
    "\n",
    "print(count)"
   ]
  },
  {
   "cell_type": "code",
   "execution_count": 31,
   "metadata": {},
   "outputs": [
    {
     "name": "stdout",
     "output_type": "stream",
     "text": [
      "69.63699643692699\n"
     ]
    }
   ],
   "source": [
    "print(len(large_org_hostnames) * 100 / len(unicast_hostnames))"
   ]
  }
 ],
 "metadata": {
  "kernelspec": {
   "display_name": "geogiant-pnmpKHwb-py3.10",
   "language": "python",
   "name": "python3"
  },
  "language_info": {
   "codemirror_mode": {
    "name": "ipython",
    "version": 3
   },
   "file_extension": ".py",
   "mimetype": "text/x-python",
   "name": "python",
   "nbconvert_exporter": "python",
   "pygments_lexer": "ipython3",
   "version": "3.10.12"
  }
 },
 "nbformat": 4,
 "nbformat_minor": 2
}
