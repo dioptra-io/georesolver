{
 "cells": [
  {
   "cell_type": "markdown",
   "metadata": {},
   "source": [
    "## Amazon ECS proportion"
   ]
  },
  {
   "cell_type": "code",
   "execution_count": 3,
   "metadata": {},
   "outputs": [
    {
     "name": "stdout",
     "output_type": "stream",
     "text": [
      "13.679361163135331\n"
     ]
    }
   ],
   "source": [
    "from collections import defaultdict\n",
    "from geogiant.common.files_utils import load_json, dump_json\n",
    "from geogiant.common.ip_addresses_utils import get_prefix_from_ip\n",
    "from geogiant.common.settings import PathSettings\n",
    "\n",
    "path_settings = PathSettings()\n",
    "\n",
    "org_per_hostname = load_json(\n",
    "    path_settings.DATASET / \"ecs_hostnames_organization_original.json\",\n",
    ")\n",
    "\n",
    "hostname_per_org = defaultdict(set)\n",
    "for i, (hostname, orgs) in enumerate(org_per_hostname.items()):\n",
    "    for org in orgs:\n",
    "        hostname_per_org[org].add(hostname)\n",
    "\n",
    "\n",
    "all_hostnames = set()\n",
    "for i, (org, hostnames) in enumerate(hostname_per_org.items()):\n",
    "    all_hostnames.update(hostnames)\n",
    "\n",
    "\n",
    "print(len(hostname_per_org[\"AMAZON-02\"]) / len(all_hostnames) * 100)"
   ]
  },
  {
   "cell_type": "code",
   "execution_count": 3,
   "metadata": {},
   "outputs": [
    {
     "data": {
      "text/plain": [
       "datetime.timedelta(seconds=1869, microseconds=211257)"
      ]
     },
     "execution_count": 3,
     "metadata": {},
     "output_type": "execute_result"
    }
   ],
   "source": [
    "from datetime import datetime, timedelta\n",
    "\n",
    "t1 = 1715292343.221449\n",
    "t2 = 1715294212.4327064\n",
    "\n",
    "t = datetime.fromtimestamp(t2) - datetime.fromtimestamp(t1)\n",
    "\n",
    "t"
   ]
  },
  {
   "cell_type": "markdown",
   "metadata": {},
   "source": [
    "# Last dataset of hostname"
   ]
  },
  {
   "cell_type": "code",
   "execution_count": 4,
   "metadata": {},
   "outputs": [
    {
     "name": "stdout",
     "output_type": "stream",
     "text": [
      "len(selected_hostnames)=389\n",
      "AMAZON:: 4.627249357326478\n"
     ]
    }
   ],
   "source": [
    "hostname_per_org_per_ns = load_json(\n",
    "    path_settings.DATASET\n",
    "    / \"hostname_geo_score_selection_20_BGP_3_hostnames_per_org_ns.json\"\n",
    ")\n",
    "\n",
    "selected_hostnames = set()\n",
    "selected_hostnames_per_cdn = defaultdict(list)\n",
    "for ns in hostname_per_org_per_ns:\n",
    "    for org, hostnames in hostname_per_org_per_ns[ns].items():\n",
    "        selected_hostnames.update(hostnames)\n",
    "        selected_hostnames_per_cdn[org].extend(hostnames)\n",
    "\n",
    "print(f\"{len(selected_hostnames)=}\")\n",
    "\n",
    "print(\n",
    "    f\"AMAZON:: {len(selected_hostnames_per_cdn['AMAZON']) / len(selected_hostnames) * 100}\"\n",
    ")"
   ]
  },
  {
   "cell_type": "code",
   "execution_count": 18,
   "metadata": {},
   "outputs": [
    {
     "name": "stdout",
     "output_type": "stream",
     "text": [
      "54.09\n",
      "80.56\n",
      "100.0\n"
     ]
    }
   ],
   "source": [
    "cdn_per_hostname = load_json(path_settings.DATASET / \"ecs_hostnames_organization.json\")\n",
    "\n",
    "bgp_prefix_per_hostname = defaultdict(set)\n",
    "for hostname, bgp_prefixes_per_cdn in cdn_per_hostname.items():\n",
    "    for bgp_prefixes in bgp_prefixes_per_cdn.values():\n",
    "        bgp_prefix_per_hostname[hostname].update(bgp_prefixes)\n",
    "\n",
    "google_hostnames = selected_hostnames_per_cdn[\"AKAMAI\"]\n",
    "bgp_prefixes_per_hostname_google = {}\n",
    "all_bgp_prefixes_google = set()\n",
    "for hostname in google_hostnames:\n",
    "    bgp_prefixes = bgp_prefix_per_hostname[hostname]\n",
    "    bgp_prefixes_per_hostname_google[hostname] = bgp_prefixes\n",
    "\n",
    "cumulative_bgp_prefixes = set()\n",
    "bgp_prefixes_per_hostname_google = sorted(\n",
    "    bgp_prefixes_per_hostname_google.items(), key=lambda x: len(x[1]), reverse=True\n",
    ")\n",
    "for hostname, bgp_prefixes in bgp_prefixes_per_hostname_google[:3]:\n",
    "    all_bgp_prefixes_google.update(bgp_prefixes)\n",
    "\n",
    "for hostname, bgp_prefixes in bgp_prefixes_per_hostname_google[:3]:\n",
    "    cumulative_bgp_prefixes = cumulative_bgp_prefixes.union(set(bgp_prefixes))\n",
    "    print(round(len(cumulative_bgp_prefixes) / len(all_bgp_prefixes_google) * 100, 2))"
   ]
  },
  {
   "cell_type": "markdown",
   "metadata": {},
   "source": [
    "# Removed probes / anchors"
   ]
  },
  {
   "cell_type": "code",
   "execution_count": 2,
   "metadata": {},
   "outputs": [
    {
     "name": "stderr",
     "output_type": "stream",
     "text": [
      "\u001b[32m2024-05-10 07:49:57.375\u001b[0m | \u001b[1mINFO    \u001b[0m | \u001b[36mgeogiant.clickhouse.query\u001b[0m:\u001b[36mexecute\u001b[0m:\u001b[36m122\u001b[0m - \u001b[1mquery=GetVPs table_name=vps_raw  limit=None\u001b[0m\n",
      "\u001b[32m2024-05-10 07:49:57.488\u001b[0m | \u001b[1mINFO    \u001b[0m | \u001b[36mgeogiant.clickhouse.query\u001b[0m:\u001b[36mexecute\u001b[0m:\u001b[36m122\u001b[0m - \u001b[1mquery=GetVPs table_name=vps_raw  limit=None\u001b[0m\n"
     ]
    },
    {
     "name": "stdout",
     "output_type": "stream",
     "text": [
      "len(vps)=11265\n",
      "len(filtered_vps)=10864\n",
      "len(removed_anchors)=47\n",
      "len(removed_probes)=139\n"
     ]
    }
   ],
   "source": [
    "from geogiant.common.queries import (\n",
    "    load_targets,\n",
    "    load_vps,\n",
    ")\n",
    "from collections import defaultdict\n",
    "from geogiant.common.files_utils import load_json, dump_json\n",
    "from geogiant.common.ip_addresses_utils import get_prefix_from_ip\n",
    "from geogiant.common.settings import PathSettings, ClickhouseSettings\n",
    "\n",
    "path_settings = PathSettings()\n",
    "clickhouse_settings = ClickhouseSettings()\n",
    "\n",
    "wrongly_geolocated_probes = load_json(\n",
    "    path_settings.DATASET / \"wrongly_geolocated_probes.json\"\n",
    ")\n",
    "\n",
    "# here load VPs and country file info\n",
    "targets = load_targets(clickhouse_settings.VPS_RAW_TABLE)\n",
    "targets = [target[\"addr\"] for target in targets]\n",
    "vps = load_vps(clickhouse_settings.VPS_RAW_TABLE)\n",
    "vps = [vp[\"addr\"] for vp in vps]\n",
    "\n",
    "removed_anchors = []\n",
    "removed_probes = []\n",
    "\n",
    "for target in wrongly_geolocated_probes:\n",
    "    if target in targets:\n",
    "        removed_anchors.append(target)\n",
    "    if target in vps:\n",
    "        removed_probes.append(target)\n",
    "\n",
    "\n",
    "print(f\"{len(removed_anchors)=}\")\n",
    "print(f\"{len(removed_probes)=}\")"
   ]
  },
  {
   "cell_type": "markdown",
   "metadata": {},
   "source": [
    "# Last mile delay VP"
   ]
  },
  {
   "cell_type": "code",
   "execution_count": 8,
   "metadata": {},
   "outputs": [
    {
     "name": "stderr",
     "output_type": "stream",
     "text": [
      "\u001b[32m2024-05-10 07:53:51.656\u001b[0m | \u001b[1mINFO    \u001b[0m | \u001b[36mgeogiant.clickhouse.query\u001b[0m:\u001b[36mexecute\u001b[0m:\u001b[36m122\u001b[0m - \u001b[1mquery=GetLastMileDelay table_name=traceroutes_last_mile_delay  limit=None\u001b[0m\n"
     ]
    },
    {
     "name": "stdout",
     "output_type": "stream",
     "text": [
      "len(last_mile_delay)=10735\n",
      "len(vp_above_2ms)=4851\n",
      "len(filtered_vps)=5884\n",
      "len(filtered_vps)=5884\n",
      "len(filtered_vps)=5884\n",
      "5884\n"
     ]
    }
   ],
   "source": [
    "from geogiant.common.queries import get_min_rtt_per_vp\n",
    "from geogiant.common.ip_addresses_utils import get_prefix_from_ip\n",
    "from geogiant.common.settings import PathSettings, ClickhouseSettings\n",
    "\n",
    "path_settings = PathSettings()\n",
    "clickhouse_settings = ClickhouseSettings()\n",
    "\n",
    "last_mile_delay = get_min_rtt_per_vp(clickhouse_settings.VPS_MESHED_TRACEROUTE_TABLE)\n",
    "\n",
    "vp_above_2ms = []\n",
    "filtered_vps = []\n",
    "for vp, min_rtt in last_mile_delay.items():\n",
    "    if min_rtt > 2:\n",
    "        vp_above_2ms.append(vp)\n",
    "    else:\n",
    "        filtered_vps.append(vp)\n",
    "\n",
    "print(f\"{len(last_mile_delay)=}\")\n",
    "print(f\"{len(vp_above_2ms)=}\")\n",
    "print(f\"{len(filtered_vps)=}\")\n",
    "\n",
    "print(f\"{len(filtered_vps)=}\")\n",
    "filtered_vps = set(filtered_vps).difference(set(wrongly_geolocated_probes))\n",
    "print(f\"{len(filtered_vps)=}\")\n",
    "\n",
    "filtered_vps_subnets = [get_prefix_from_ip(vp_addr) for vp_addr in filtered_vps]\n",
    "\n",
    "print(f\"{len(filtered_vps_subnets)}\")\n",
    "dump_json(filtered_vps_subnets, path_settings.DATASET / \"vps_subnets_filtered.json\")"
   ]
  },
  {
   "cell_type": "markdown",
   "metadata": {},
   "source": [
    "# Anchors dataset taxionomie"
   ]
  },
  {
   "cell_type": "code",
   "execution_count": 19,
   "metadata": {},
   "outputs": [
    {
     "name": "stderr",
     "output_type": "stream",
     "text": [
      "\u001b[32m2024-05-09 18:56:25.338\u001b[0m | \u001b[1mINFO    \u001b[0m | \u001b[36mgeogiant.clickhouse.query\u001b[0m:\u001b[36mexecute\u001b[0m:\u001b[36m122\u001b[0m - \u001b[1mquery=GetVPs table_name=vps_raw  limit=None\u001b[0m\n"
     ]
    },
    {
     "name": "stdout",
     "output_type": "stream",
     "text": [
      "len(target_countries)=96\n",
      "len(target_asns)=603\n",
      "continent='Europe', nb_targets=475\n",
      "continent='Asia', nb_targets=124\n",
      "continent='South America', nb_targets=29\n",
      "continent='North America', nb_targets=141\n",
      "continent='Oceania', nb_targets=23\n",
      "continent='Africa', nb_targets=19\n"
     ]
    }
   ],
   "source": [
    "from collections import defaultdict\n",
    "from geogiant.common.queries import load_targets\n",
    "from geogiant.common.files_utils import load_json, load_countries_continent\n",
    "from geogiant.common.settings import PathSettings, ClickhouseSettings\n",
    "\n",
    "path_settings = PathSettings()\n",
    "clickhouse_settings = ClickhouseSettings()\n",
    "\n",
    "wrongly_geolocated_probes = load_json(\n",
    "    path_settings.DATASET / \"wrongly_geolocated_probes.json\"\n",
    ")\n",
    "\n",
    "# here load VPs and country file info\n",
    "targets = load_targets(clickhouse_settings.VPS_RAW_TABLE)\n",
    "countries_continent = load_countries_continent()\n",
    "\n",
    "target_countries = set()\n",
    "target_asns = set()\n",
    "target_per_continent = defaultdict(int)\n",
    "for target in targets:\n",
    "    target_countries.add(target[\"country_code\"])\n",
    "    target_asns.add(target[\"asn_v4\"])\n",
    "    continent = countries_continent[target[\"country_code\"]]\n",
    "\n",
    "    target_per_continent[continent] += 1\n",
    "\n",
    "print(f\"{len(target_countries)=}\")\n",
    "print(f\"{len(target_asns)=}\")\n",
    "\n",
    "for continent, nb_targets in target_per_continent.items():\n",
    "    print(f\"{continent=}, {nb_targets=}\")"
   ]
  },
  {
   "cell_type": "code",
   "execution_count": 4,
   "metadata": {},
   "outputs": [
    {
     "name": "stderr",
     "output_type": "stream",
     "text": [
      "\u001b[32m2024-05-10 12:14:02.668\u001b[0m | \u001b[1mINFO    \u001b[0m | \u001b[36mgeogiant.clickhouse.query\u001b[0m:\u001b[36mexecute\u001b[0m:\u001b[36m122\u001b[0m - \u001b[1mquery=GetVPs table_name=filtered_vps  limit=None\u001b[0m\n"
     ]
    },
    {
     "name": "stdout",
     "output_type": "stream",
     "text": [
      "759\n"
     ]
    }
   ],
   "source": [
    "from geogiant.common.queries import load_targets, get_pings_per_target\n",
    "from geogiant.common.settings import ClickhouseSettings\n",
    "\n",
    "targets = load_targets(ClickhouseSettings().VPS_FILTERED_TABLE)\n",
    "# pings_anchors = get_pings_per_target(ClickhouseSettings().VPS_VPS_MESHED_PINGS_TABLE)\n",
    "\n",
    "print(f\"{len(targets)}\")\n",
    "# print(f\"{len(pings_anchors)}\")"
   ]
  },
  {
   "cell_type": "code",
   "execution_count": 1,
   "metadata": {},
   "outputs": [
    {
     "name": "stderr",
     "output_type": "stream",
     "text": [
      "\u001b[32m2024-09-02 12:13:56.440\u001b[0m | \u001b[1mINFO    \u001b[0m | \u001b[36mgeogiant.clickhouse.query\u001b[0m:\u001b[36mexecute\u001b[0m:\u001b[36m122\u001b[0m - \u001b[1mquery=GetVPs table_name=filtered_vps  limit=None\u001b[0m\n",
      "\u001b[32m2024-09-02 12:13:56.562\u001b[0m | \u001b[1mINFO    \u001b[0m | \u001b[36mgeogiant.clickhouse.query\u001b[0m:\u001b[36mexecute\u001b[0m:\u001b[36m122\u001b[0m - \u001b[1mquery=CreatePingTable table_name=ping_vps_to_targets  limit=None\u001b[0m\n",
      "\u001b[32m2024-09-02 12:13:56.580\u001b[0m | \u001b[1mINFO    \u001b[0m | \u001b[36mgeogiant.clickhouse.query\u001b[0m:\u001b[36mexecute\u001b[0m:\u001b[36m122\u001b[0m - \u001b[1mquery=GetPingsPerTarget table_name=ping_vps_to_targets  limit=None\u001b[0m\n",
      "Exception ignored in: <bound method IPythonKernel._clean_thread_parent_frames of <ipykernel.ipkernel.IPythonKernel object at 0x7fe42b059ff0>>\n",
      "Traceback (most recent call last):\n",
      "  File \"/home/hugo/.cache/pypoetry/virtualenvs/geogiant-pnmpKHwb-py3.10/lib/python3.10/site-packages/ipykernel/ipkernel.py\", line 775, in _clean_thread_parent_frames\n",
      "    def _clean_thread_parent_frames(\n",
      "KeyboardInterrupt: \n"
     ]
    }
   ],
   "source": [
    "from collections import defaultdict\n",
    "from geogiant.common.queries import load_targets, get_pings_per_target\n",
    "from geogiant.common.files_utils import load_json, load_countries_continent\n",
    "from geogiant.common.settings import PathSettings, ClickhouseSettings\n",
    "\n",
    "path_settings = PathSettings()\n",
    "clickhouse_settings = ClickhouseSettings()\n",
    "\n",
    "wrongly_geolocated_probes = load_json(\n",
    "    path_settings.DATASET / \"wrongly_geolocated_probes.json\"\n",
    ")\n",
    "\n",
    "# here load VPs and country file info\n",
    "targets = load_targets(clickhouse_settings.VPS_FILTERED_TABLE)\n",
    "pings_target = get_pings_per_target(clickhouse_settings.VPS_MESHED_PINGS_TABLE)\n",
    "\n",
    "countries_continent = load_countries_continent()"
   ]
  },
  {
   "cell_type": "code",
   "execution_count": null,
   "metadata": {},
   "outputs": [
    {
     "name": "stdout",
     "output_type": "stream",
     "text": [
      "2.59.58.2\n",
      "5.182.48.97\n",
      "37.202.7.126\n",
      "45.86.126.73\n",
      "81.169.160.78\n",
      "104.225.15.170\n",
      "185.142.156.40\n",
      "194.15.98.10\n",
      "len(target_countries)=94\n",
      "len(target_asns)=567\n",
      "751\n",
      "6\n",
      "continent='Europe', nb_targets=444\n",
      "continent='Asia', nb_targets=111\n",
      "continent='South America', nb_targets=27\n",
      "continent='North America', nb_targets=129\n",
      "continent='Africa', nb_targets=19\n",
      "continent='Oceania', nb_targets=21\n"
     ]
    }
   ],
   "source": [
    "target_countries = set()\n",
    "target_asns = set()\n",
    "target_per_continent = defaultdict(int)\n",
    "\n",
    "for target in targets:\n",
    "    if target[\"addr\"] in [\n",
    "        \"2.59.58.2\",\n",
    "        \"5.182.48.97\",\n",
    "        \"37.202.7.126\",\n",
    "        \"45.86.126.73\",\n",
    "        \"81.169.160.78\",\n",
    "        \"104.225.15.170\",\n",
    "        \"185.142.156.40\",\n",
    "        \"194.15.98.10\",\n",
    "    ]:\n",
    "        print(target[\"addr\"])\n",
    "        continue\n",
    "\n",
    "    target_countries.add(target[\"country_code\"])\n",
    "    target_asns.add(target[\"asn_v4\"])\n",
    "    continent = countries_continent[target[\"country_code\"]]\n",
    "\n",
    "    target_per_continent[continent] += 1\n",
    "\n",
    "print(f\"{len(target_countries)=}\")\n",
    "print(f\"{len(target_asns)=}\")\n",
    "print(f\"{sum(target_per_continent.values())}\")\n",
    "print(f\"{len(target_per_continent)}\")\n",
    "for continent, nb_targets in target_per_continent.items():\n",
    "    print(f\"{continent=}, {nb_targets=}\")"
   ]
  },
  {
   "cell_type": "code",
   "execution_count": 1,
   "metadata": {},
   "outputs": [
    {
     "name": "stderr",
     "output_type": "stream",
     "text": [
      "\u001b[32m2024-09-02 12:14:19.672\u001b[0m | \u001b[1mINFO    \u001b[0m | \u001b[36mgeogiant.clickhouse.query\u001b[0m:\u001b[36mexecute\u001b[0m:\u001b[36m122\u001b[0m - \u001b[1mquery=GetMetroIP table_name=pings_internet_scale  limit=None\u001b[0m\n",
      "\u001b[32m2024-09-02 12:14:22.878\u001b[0m | \u001b[1mINFO    \u001b[0m | \u001b[36mgeogiant.clickhouse.query\u001b[0m:\u001b[36mexecute\u001b[0m:\u001b[36m122\u001b[0m - \u001b[1mquery=GetAllResponsiveIP table_name=pings_internet_scale  limit=None\u001b[0m\n",
      "\u001b[32m2024-09-02 12:14:29.830\u001b[0m | \u001b[1mINFO    \u001b[0m | \u001b[36mgeogiant.clickhouse.query\u001b[0m:\u001b[36mexecute\u001b[0m:\u001b[36m122\u001b[0m - \u001b[1mquery=GetMetroIP table_name=pings_internet_scale_aggregation  limit=None\u001b[0m\n",
      "\u001b[32m2024-09-02 12:14:31.276\u001b[0m | \u001b[1mINFO    \u001b[0m | \u001b[36mgeogiant.clickhouse.query\u001b[0m:\u001b[36mexecute\u001b[0m:\u001b[36m122\u001b[0m - \u001b[1mquery=GetAllResponsiveIP table_name=pings_internet_scale_aggregation  limit=None\u001b[0m\n"
     ]
    }
   ],
   "source": [
    "from pych_client import ClickHouseClient\n",
    "\n",
    "from geogiant.clickhouse import GetAllResponsiveIP, GetMetroIP\n",
    "from geogiant.common.settings import ClickhouseSettings\n",
    "\n",
    "clickhouse_settings = ClickhouseSettings()\n",
    "\n",
    "\n",
    "def get_metro_ip(ping_table: str) -> set:\n",
    "    with ClickHouseClient(**clickhouse_settings.clickhouse) as client:\n",
    "        rows = GetMetroIP().execute(client, ping_table)\n",
    "        for row in rows:\n",
    "            metro_ip.add(row[\"dst_addr\"])\n",
    "\n",
    "    return metro_ip\n",
    "\n",
    "\n",
    "def get_responsive_ip(ping_table: str) -> set:\n",
    "    metro_ip = set()\n",
    "    with ClickHouseClient(**clickhouse_settings.clickhouse) as client:\n",
    "        rows = GetAllResponsiveIP().execute(client, ping_table)\n",
    "        for row in rows:\n",
    "            metro_ip.add(row[\"dst_addr\"])\n",
    "\n",
    "    return metro_ip\n",
    "\n",
    "\n",
    "metro_ip = get_metro_ip(\"pings_internet_scale\")\n",
    "responsive_ip = get_responsive_ip(\"pings_internet_scale\")\n",
    "metro_ip_aggregation = get_metro_ip(\"pings_internet_scale_aggregation\")\n",
    "responsive_ip_aggregation = get_responsive_ip(\"pings_internet_scale_aggregation\")\n",
    "\n",
    "all_metro_ip = metro_ip.union(metro_ip_aggregation)\n",
    "all_responsive_ip = responsive_ip.union(responsive_ip_aggregation)"
   ]
  },
  {
   "cell_type": "code",
   "execution_count": 2,
   "metadata": {},
   "outputs": [
    {
     "name": "stdout",
     "output_type": "stream",
     "text": [
      "len(metro_ip)=239915\n",
      "len(responsive_ip)=1015779\n",
      "Proportion:: 0.23618818660358207\n",
      "len(metro_ip_aggregation)=223729\n",
      "len(responsive_ip_aggregation)=270981\n",
      "Proportion:: 0.8256261509109495\n",
      "len(all_metro_ip)=455737\n"
     ]
    }
   ],
   "source": [
    "print(f\"{len(metro_ip)=}\")\n",
    "print(f\"{len(responsive_ip)=}\")\n",
    "print(f\"Proportion:: {len(metro_ip) / len(responsive_ip)}\")\n",
    "print(f\"{len(metro_ip_aggregation)=}\")\n",
    "print(f\"{len(responsive_ip_aggregation)=}\")\n",
    "print(f\"Proportion:: {len(metro_ip_aggregation) / len(responsive_ip_aggregation)}\")\n",
    "print(f\"{len(all_metro_ip)=}\")"
   ]
  },
  {
   "cell_type": "markdown",
   "metadata": {},
   "source": [
    "# ITDK DATASET"
   ]
  },
  {
   "cell_type": "code",
   "execution_count": 1,
   "metadata": {},
   "outputs": [],
   "source": [
    "from geogiant.common.files_utils import load_csv, dump_csv\n",
    "from geogiant.common.ip_addresses_utils import get_prefix_from_ip\n",
    "from geogiant.common.settings import PathSettings\n",
    "\n",
    "path_settings = PathSettings()"
   ]
  },
  {
   "cell_type": "code",
   "execution_count": 2,
   "metadata": {},
   "outputs": [],
   "source": [
    "raw_itdk_data = load_csv(path_settings.DATASET / \"static_files/midar-iff.nodes\")"
   ]
  },
  {
   "cell_type": "code",
   "execution_count": 3,
   "metadata": {},
   "outputs": [
    {
     "name": "stdout",
     "output_type": "stream",
     "text": [
      "Nb routers:: 137749857\n"
     ]
    }
   ],
   "source": [
    "nb_routers = 0\n",
    "for row in raw_itdk_data:\n",
    "    if row.startswith(\"node\"):\n",
    "        nb_routers += 1\n",
    "\n",
    "print(f\"Nb routers:: {nb_routers}\")"
   ]
  },
  {
   "cell_type": "code",
   "execution_count": null,
   "metadata": {},
   "outputs": [],
   "source": [
    "137_749_857\n",
    "137_749_857\n",
    "\n",
    "# ITDK routers\n",
    "10_574_963\n",
    "10_550_268"
   ]
  },
  {
   "cell_type": "code",
   "execution_count": 14,
   "metadata": {},
   "outputs": [],
   "source": [
    "# parse ITDK file\n",
    "itdk_addrs = []\n",
    "for row in raw_itdk_data:\n",
    "    if row.startswith(\"node\"):\n",
    "        addrs = row.split(\":  \")[-1].split(\" \")\n",
    "        addrs = [addr.strip(\"\\n\") for addr in addrs]\n",
    "        itdk_addrs.extend(addrs)\n",
    "\n",
    "dump_csv(itdk_addrs, path_settings.DATASET / \"static_files/itdk_addrs.csv\")"
   ]
  },
  {
   "cell_type": "code",
   "execution_count": null,
   "metadata": {},
   "outputs": [],
   "source": [
    "zmap_addrs = load_csv(path_settings.DATASET / \"zmap_scan_results_2024_07_05.csv\")"
   ]
  },
  {
   "cell_type": "code",
   "execution_count": null,
   "metadata": {},
   "outputs": [],
   "source": [
    "itdk_subnets = [get_prefix_from_ip(ip) for ip in itdk_addrs]\n",
    "zmap_subnets = [get_prefix_from_ip(ip) for ip in zmap_addrs]"
   ]
  },
  {
   "cell_type": "code",
   "execution_count": 10,
   "metadata": {},
   "outputs": [],
   "source": [
    "responsive_ip_itdk = set(itdk_subnets).intersection(set(zmap_subnets))"
   ]
  },
  {
   "cell_type": "code",
   "execution_count": 11,
   "metadata": {},
   "outputs": [
    {
     "name": "stdout",
     "output_type": "stream",
     "text": [
      "Number of responsive IP addrs in ITDK dataset:: 585233\n",
      "Proportion of responsive IP addrs in ITDK:: 16 [%]\n"
     ]
    }
   ],
   "source": [
    "print(f\"Number of responsive IP addrs in ITDK dataset:: {len(responsive_ip_itdk)}\")\n",
    "print(\n",
    "    f\"Proportion of responsive IP addrs in ITDK:: {round(len(responsive_ip_itdk) * 100 / len(itdk_subnets))} [%]\"\n",
    ")"
   ]
  },
  {
   "cell_type": "code",
   "execution_count": null,
   "metadata": {},
   "outputs": [],
   "source": [
    "dump_csv(responsive_ip_itdk, path_settings.DATASET / \"itdk_responsive_addrs.csv\")"
   ]
  },
  {
   "cell_type": "code",
   "execution_count": null,
   "metadata": {},
   "outputs": [],
   "source": [
    "# load itdk router dataset\n",
    "print(f\"Number of unique router IP addrs:: {len(itdk_addrs)}\")\n",
    "\n",
    "itdk_subnets = set()\n",
    "for ip_addr in itdk_addrs:\n",
    "    subnet = \".\".join(ip_addr.split(\".\")[:-1])\n",
    "    itdk_subnets.add(subnet)"
   ]
  },
  {
   "cell_type": "markdown",
   "metadata": {},
   "source": [
    "# New geolocation dataset"
   ]
  },
  {
   "cell_type": "code",
   "execution_count": 3,
   "metadata": {},
   "outputs": [
    {
     "name": "stderr",
     "output_type": "stream",
     "text": [
      "\u001b[32m2024-09-19 08:58:22.241\u001b[0m | \u001b[34m\u001b[1mDEBUG   \u001b[0m | \u001b[36mgeogiant.clickhouse.query\u001b[0m:\u001b[36mexecute\u001b[0m:\u001b[36m122\u001b[0m - \u001b[34m\u001b[1mquery=GetMetroIP table_name=target_ping  limit=None\u001b[0m\n"
     ]
    },
    {
     "name": "stderr",
     "output_type": "stream",
     "text": [
      "\u001b[32m2024-09-19 08:58:22.333\u001b[0m | \u001b[34m\u001b[1mDEBUG   \u001b[0m | \u001b[36mgeogiant.clickhouse.query\u001b[0m:\u001b[36mexecute\u001b[0m:\u001b[36m122\u001b[0m - \u001b[34m\u001b[1mquery=GetAllResponsiveIP table_name=target_ping  limit=None\u001b[0m\n"
     ]
    }
   ],
   "source": [
    "from pych_client import ClickHouseClient\n",
    "\n",
    "from geogiant.clickhouse import GetAllResponsiveIP, GetMetroIP\n",
    "from geogiant.common.settings import ClickhouseSettings\n",
    "\n",
    "clickhouse_settings = ClickhouseSettings()\n",
    "\n",
    "\n",
    "def get_metro_ip(ping_table: str) -> set:\n",
    "    with ClickHouseClient(**clickhouse_settings.clickhouse) as client:\n",
    "        metro_ip = set()\n",
    "        rows = GetMetroIP().execute(client, ping_table)\n",
    "        for row in rows:\n",
    "            metro_ip.add(row[\"dst_addr\"])\n",
    "\n",
    "    return metro_ip\n",
    "\n",
    "\n",
    "def get_responsive_ip(ping_table: str) -> set:\n",
    "    metro_ip = set()\n",
    "    with ClickHouseClient(**clickhouse_settings.clickhouse) as client:\n",
    "        rows = GetAllResponsiveIP().execute(client, ping_table)\n",
    "        for row in rows:\n",
    "            metro_ip.add(row[\"dst_addr\"])\n",
    "\n",
    "    return metro_ip\n",
    "\n",
    "\n",
    "metro_ip = get_metro_ip(clickhouse_settings.TARGET_PING_TABLE)\n",
    "responsive_ip = get_responsive_ip(clickhouse_settings.TARGET_PING_TABLE)"
   ]
  },
  {
   "cell_type": "code",
   "execution_count": 5,
   "metadata": {},
   "outputs": [
    {
     "name": "stdout",
     "output_type": "stream",
     "text": [
      "len(metro_ip)=197\n",
      "len(responsive_ip)=1144\n",
      "Proportion:: 0.17220279720279721\n"
     ]
    }
   ],
   "source": [
    "print(f\"{len(metro_ip)=}\")\n",
    "print(f\"{len(responsive_ip)=}\")\n",
    "print(f\"Proportion:: {len(metro_ip) / len(responsive_ip)}\")"
   ]
  }
 ],
 "metadata": {
  "kernelspec": {
   "display_name": "geogiant-pnmpKHwb-py3.10",
   "language": "python",
   "name": "python3"
  },
  "language_info": {
   "codemirror_mode": {
    "name": "ipython",
    "version": 3
   },
   "file_extension": ".py",
   "mimetype": "text/x-python",
   "name": "python",
   "nbconvert_exporter": "python",
   "pygments_lexer": "ipython3",
   "version": "3.10.12"
  }
 },
 "nbformat": 4,
 "nbformat_minor": 2
}
