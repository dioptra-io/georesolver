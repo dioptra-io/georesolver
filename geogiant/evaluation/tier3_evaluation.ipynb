{
 "cells": [
  {
   "cell_type": "code",
   "execution_count": 1,
   "metadata": {},
   "outputs": [],
   "source": [
    "from plot import score_metrics_and_granularity\n",
    "from geogiant.common.settings import PathSettings, ClickhouseSettings\n",
    "\n",
    "path_settings = PathSettings()\n",
    "clickhouse_settings = ClickhouseSettings()"
   ]
  },
  {
   "cell_type": "markdown",
   "metadata": {},
   "source": [
    "# Tier 3: granularity"
   ]
  },
  {
   "cell_type": "code",
   "execution_count": 2,
   "metadata": {},
   "outputs": [
    {
     "name": "stderr",
     "output_type": "stream",
     "text": [
      "\u001b[32m2024-05-07 18:19:24.028\u001b[0m | \u001b[1mINFO    \u001b[0m | \u001b[36mplot\u001b[0m:\u001b[36mscore_metrics_and_granularity\u001b[0m:\u001b[36m593\u001b[0m - \u001b[1meval_file=PosixPath('/storage/hugo/geogiant/geogiant/common/../results/tier3_evaluation/results__best_hostname_geo_score.pickle') loaded\u001b[0m\n",
      "\u001b[32m2024-05-07 18:19:24.287\u001b[0m | \u001b[34m\u001b[1mDEBUG   \u001b[0m | \u001b[36mplot\u001b[0m:\u001b[36mscore_metrics_and_granularity\u001b[0m:\u001b[36m600\u001b[0m - \u001b[34m\u001b[1mANSWERS\u001b[0m\n",
      "\u001b[32m2024-05-07 18:19:24.292\u001b[0m | \u001b[1mINFO    \u001b[0m | \u001b[36mplot\u001b[0m:\u001b[36mplot_ecs_shortest_ping\u001b[0m:\u001b[36m512\u001b[0m - \u001b[1mECS SP:: jaccard, <40km=0.78, None hostnames\u001b[0m\n",
      "\u001b[32m2024-05-07 18:19:24.294\u001b[0m | \u001b[1mINFO    \u001b[0m | \u001b[36mplot\u001b[0m:\u001b[36mplot_ecs_shortest_ping\u001b[0m:\u001b[36m515\u001b[0m - \u001b[1mECS SP:: jaccard, median_error=6.36 [km], None hostnames\u001b[0m\n",
      "\u001b[32m2024-05-07 18:19:24.296\u001b[0m | \u001b[1mINFO    \u001b[0m | \u001b[36mplot\u001b[0m:\u001b[36mplot_ecs_shortest_ping\u001b[0m:\u001b[36m512\u001b[0m - \u001b[1mECS SP:: jaccard, <40km=0.44, None hostnames\u001b[0m\n",
      "\u001b[32m2024-05-07 18:19:24.297\u001b[0m | \u001b[1mINFO    \u001b[0m | \u001b[36mplot\u001b[0m:\u001b[36mplot_ecs_shortest_ping\u001b[0m:\u001b[36m515\u001b[0m - \u001b[1mECS SP:: jaccard, median_error=74.1 [km], None hostnames\u001b[0m\n",
      "\u001b[32m2024-05-07 18:19:24.304\u001b[0m | \u001b[1mINFO    \u001b[0m | \u001b[36mplot\u001b[0m:\u001b[36mplot_ecs_shortest_ping\u001b[0m:\u001b[36m512\u001b[0m - \u001b[1mECS SP:: jaccard, <40km=0.78, None hostnames\u001b[0m\n",
      "\u001b[32m2024-05-07 18:19:24.306\u001b[0m | \u001b[1mINFO    \u001b[0m | \u001b[36mplot\u001b[0m:\u001b[36mplot_ecs_shortest_ping\u001b[0m:\u001b[36m515\u001b[0m - \u001b[1mECS SP:: jaccard, median_error=6.25 [km], None hostnames\u001b[0m\n",
      "\u001b[32m2024-05-07 18:19:24.308\u001b[0m | \u001b[1mINFO    \u001b[0m | \u001b[36mplot\u001b[0m:\u001b[36mplot_ecs_shortest_ping\u001b[0m:\u001b[36m512\u001b[0m - \u001b[1mECS SP:: jaccard, <40km=0.46, None hostnames\u001b[0m\n",
      "\u001b[32m2024-05-07 18:19:24.309\u001b[0m | \u001b[1mINFO    \u001b[0m | \u001b[36mplot\u001b[0m:\u001b[36mplot_ecs_shortest_ping\u001b[0m:\u001b[36m515\u001b[0m - \u001b[1mECS SP:: jaccard, median_error=62.4 [km], None hostnames\u001b[0m\n",
      "\u001b[32m2024-05-07 18:19:24.317\u001b[0m | \u001b[1mINFO    \u001b[0m | \u001b[36mplot\u001b[0m:\u001b[36mplot_ecs_shortest_ping\u001b[0m:\u001b[36m512\u001b[0m - \u001b[1mECS SP:: jaccard, <40km=0.77, None hostnames\u001b[0m\n",
      "\u001b[32m2024-05-07 18:19:24.318\u001b[0m | \u001b[1mINFO    \u001b[0m | \u001b[36mplot\u001b[0m:\u001b[36mplot_ecs_shortest_ping\u001b[0m:\u001b[36m515\u001b[0m - \u001b[1mECS SP:: jaccard, median_error=6.14 [km], None hostnames\u001b[0m\n",
      "\u001b[32m2024-05-07 18:19:24.320\u001b[0m | \u001b[1mINFO    \u001b[0m | \u001b[36mplot\u001b[0m:\u001b[36mplot_ecs_shortest_ping\u001b[0m:\u001b[36m512\u001b[0m - \u001b[1mECS SP:: jaccard, <40km=0.45, None hostnames\u001b[0m\n",
      "\u001b[32m2024-05-07 18:19:24.321\u001b[0m | \u001b[1mINFO    \u001b[0m | \u001b[36mplot\u001b[0m:\u001b[36mplot_ecs_shortest_ping\u001b[0m:\u001b[36m515\u001b[0m - \u001b[1mECS SP:: jaccard, median_error=69.06 [km], None hostnames\u001b[0m\n"
     ]
    }
   ],
   "source": [
    "score_metrics_and_granularity(\n",
    "    eval_file=path_settings.RESULTS_PATH\n",
    "    / \"tier3_evaluation/results__best_hostname_geo_score.pickle\",\n",
    "    output_path=\"granularity_evaluation\",\n",
    "    metric_evaluated=\"d_error\",\n",
    "    score_metrics=[\"jaccard\"],\n",
    "    granularities=[\n",
    "        \"answers\",\n",
    "        \"answer_subnets\",\n",
    "        \"answer_bgp_prefixes\",\n",
    "    ],\n",
    "    probing_budgets_evaluated=[1, 50],\n",
    "    plot_zp=False,\n",
    ")"
   ]
  },
  {
   "cell_type": "markdown",
   "metadata": {},
   "source": [
    "# TIER 3: similarity scores"
   ]
  },
  {
   "cell_type": "code",
   "execution_count": 5,
   "metadata": {},
   "outputs": [
    {
     "name": "stderr",
     "output_type": "stream",
     "text": [
      "\u001b[32m2024-05-07 18:19:48.576\u001b[0m | \u001b[1mINFO    \u001b[0m | \u001b[36mplot\u001b[0m:\u001b[36mscore_metrics_and_granularity\u001b[0m:\u001b[36m593\u001b[0m - \u001b[1meval_file=PosixPath('/storage/hugo/geogiant/geogiant/common/../results/tier3_evaluation/results__best_hostname_geo_score.pickle') loaded\u001b[0m\n",
      "\u001b[32m2024-05-07 18:19:48.589\u001b[0m | \u001b[1mINFO    \u001b[0m | \u001b[36mplot\u001b[0m:\u001b[36mplot_ecs_shortest_ping\u001b[0m:\u001b[36m512\u001b[0m - \u001b[1mECS SP:: intersection, <40km=0.77, None hostnames\u001b[0m\n",
      "\u001b[32m2024-05-07 18:19:48.590\u001b[0m | \u001b[1mINFO    \u001b[0m | \u001b[36mplot\u001b[0m:\u001b[36mplot_ecs_shortest_ping\u001b[0m:\u001b[36m515\u001b[0m - \u001b[1mECS SP:: intersection, median_error=6.24 [km], None hostnames\u001b[0m\n",
      "\u001b[32m2024-05-07 18:19:48.592\u001b[0m | \u001b[1mINFO    \u001b[0m | \u001b[36mplot\u001b[0m:\u001b[36mplot_ecs_shortest_ping\u001b[0m:\u001b[36m512\u001b[0m - \u001b[1mECS SP:: intersection, <40km=0.4, None hostnames\u001b[0m\n",
      "\u001b[32m2024-05-07 18:19:48.594\u001b[0m | \u001b[1mINFO    \u001b[0m | \u001b[36mplot\u001b[0m:\u001b[36mplot_ecs_shortest_ping\u001b[0m:\u001b[36m515\u001b[0m - \u001b[1mECS SP:: intersection, median_error=102.86 [km], None hostnames\u001b[0m\n",
      "\u001b[32m2024-05-07 18:19:48.598\u001b[0m | \u001b[1mINFO    \u001b[0m | \u001b[36mplot\u001b[0m:\u001b[36mplot_ecs_shortest_ping\u001b[0m:\u001b[36m512\u001b[0m - \u001b[1mECS SP:: jaccard, <40km=0.78, None hostnames\u001b[0m\n",
      "\u001b[32m2024-05-07 18:19:48.600\u001b[0m | \u001b[1mINFO    \u001b[0m | \u001b[36mplot\u001b[0m:\u001b[36mplot_ecs_shortest_ping\u001b[0m:\u001b[36m515\u001b[0m - \u001b[1mECS SP:: jaccard, median_error=6.25 [km], None hostnames\u001b[0m\n",
      "\u001b[32m2024-05-07 18:19:48.603\u001b[0m | \u001b[1mINFO    \u001b[0m | \u001b[36mplot\u001b[0m:\u001b[36mplot_ecs_shortest_ping\u001b[0m:\u001b[36m512\u001b[0m - \u001b[1mECS SP:: jaccard, <40km=0.46, None hostnames\u001b[0m\n",
      "\u001b[32m2024-05-07 18:19:48.605\u001b[0m | \u001b[1mINFO    \u001b[0m | \u001b[36mplot\u001b[0m:\u001b[36mplot_ecs_shortest_ping\u001b[0m:\u001b[36m515\u001b[0m - \u001b[1mECS SP:: jaccard, median_error=62.4 [km], None hostnames\u001b[0m\n"
     ]
    }
   ],
   "source": [
    "# scope other graph\n",
    "score_metrics_and_granularity(\n",
    "    eval_file=path_settings.RESULTS_PATH\n",
    "    / \"tier3_evaluation/results__best_hostname_geo_score.pickle\",\n",
    "    output_path=\"score_metrics_evaluation\",\n",
    "    metric_evaluated=\"d_error\",\n",
    "    granularities=[\"answer_subnets\"],\n",
    "    score_metrics=[\n",
    "        \"jaccard\",\n",
    "        \"intersection\",\n",
    "    ],\n",
    "    probing_budgets_evaluated=[50, 1],\n",
    "    plot_zp=False,\n",
    "    legend_size=9,\n",
    ")"
   ]
  },
  {
   "cell_type": "code",
   "execution_count": null,
   "metadata": {},
   "outputs": [
    {
     "name": "stderr",
     "output_type": "stream",
     "text": [
      "\u001b[32m2024-05-07 18:18:01.124\u001b[0m | \u001b[1mINFO    \u001b[0m | \u001b[36mplot\u001b[0m:\u001b[36mscore_metrics_and_granularity\u001b[0m:\u001b[36m591\u001b[0m - \u001b[1meval_file=PosixPath('/storage/hugo/geogiant/geogiant/common/../results/tier3_evaluation/results__best_hostname_geo_score.pickle') loaded\u001b[0m\n",
      "\u001b[32m2024-05-07 18:18:01.139\u001b[0m | \u001b[1mINFO    \u001b[0m | \u001b[36mplot\u001b[0m:\u001b[36mplot_ecs_shortest_ping\u001b[0m:\u001b[36m511\u001b[0m - \u001b[1mECS SP:: intersection_scope_linear_weight, <40km=0.78, None hostnames\u001b[0m\n",
      "\u001b[32m2024-05-07 18:18:01.141\u001b[0m | \u001b[1mINFO    \u001b[0m | \u001b[36mplot\u001b[0m:\u001b[36mplot_ecs_shortest_ping\u001b[0m:\u001b[36m514\u001b[0m - \u001b[1mECS SP:: intersection_scope_linear_weight, median_error=6.26 [km], None hostnames\u001b[0m\n",
      "\u001b[32m2024-05-07 18:18:01.143\u001b[0m | \u001b[1mINFO    \u001b[0m | \u001b[36mplot\u001b[0m:\u001b[36mplot_ecs_shortest_ping\u001b[0m:\u001b[36m511\u001b[0m - \u001b[1mECS SP:: intersection_scope_poly_weight, <40km=0.77, None hostnames\u001b[0m\n",
      "\u001b[32m2024-05-07 18:18:01.144\u001b[0m | \u001b[1mINFO    \u001b[0m | \u001b[36mplot\u001b[0m:\u001b[36mplot_ecs_shortest_ping\u001b[0m:\u001b[36m514\u001b[0m - \u001b[1mECS SP:: intersection_scope_poly_weight, median_error=6.46 [km], None hostnames\u001b[0m\n",
      "\u001b[32m2024-05-07 18:18:01.146\u001b[0m | \u001b[1mINFO    \u001b[0m | \u001b[36mplot\u001b[0m:\u001b[36mplot_ecs_shortest_ping\u001b[0m:\u001b[36m511\u001b[0m - \u001b[1mECS SP:: jaccard_scope_linear_weight, <40km=0.78, None hostnames\u001b[0m\n",
      "\u001b[32m2024-05-07 18:18:01.146\u001b[0m | \u001b[1mINFO    \u001b[0m | \u001b[36mplot\u001b[0m:\u001b[36mplot_ecs_shortest_ping\u001b[0m:\u001b[36m514\u001b[0m - \u001b[1mECS SP:: jaccard_scope_linear_weight, median_error=6.2 [km], None hostnames\u001b[0m\n",
      "\u001b[32m2024-05-07 18:18:01.148\u001b[0m | \u001b[1mINFO    \u001b[0m | \u001b[36mplot\u001b[0m:\u001b[36mplot_ecs_shortest_ping\u001b[0m:\u001b[36m511\u001b[0m - \u001b[1mECS SP:: jaccard_scope_poly_weight, <40km=0.77, None hostnames\u001b[0m\n",
      "\u001b[32m2024-05-07 18:18:01.149\u001b[0m | \u001b[1mINFO    \u001b[0m | \u001b[36mplot\u001b[0m:\u001b[36mplot_ecs_shortest_ping\u001b[0m:\u001b[36m514\u001b[0m - \u001b[1mECS SP:: jaccard_scope_poly_weight, median_error=6.26 [km], None hostnames\u001b[0m\n"
     ]
    }
   ],
   "source": [
    "# scope other graph\n",
    "score_metrics_and_granularity(\n",
    "    eval_file=path_settings.RESULTS_PATH\n",
    "    / \"tier3_evaluation/results__best_hostname_geo_score.pickle\",\n",
    "    output_path=\"score_metric_evaluation_with_scope\",\n",
    "    metric_evaluated=\"d_error\",\n",
    "    granularities=[\"answer_subnets\"],\n",
    "    score_metrics=[\n",
    "        \"jaccard_scope_linear_weight\",\n",
    "        \"intersection_scope_linear_weight\",\n",
    "        \"jaccard_scope_poly_weight\",\n",
    "        \"intersection_scope_poly_weight\",\n",
    "    ],\n",
    "    plot_zp=False,\n",
    ")"
   ]
  },
  {
   "cell_type": "markdown",
   "metadata": {},
   "source": [
    "# TIER 3: VP selection"
   ]
  },
  {
   "cell_type": "code",
   "execution_count": null,
   "metadata": {},
   "outputs": [
    {
     "name": "stderr",
     "output_type": "stream",
     "text": [
      "\u001b[32m2024-05-07 18:18:07.257\u001b[0m | \u001b[1mINFO    \u001b[0m | \u001b[36mplot\u001b[0m:\u001b[36mscore_metrics_and_granularity\u001b[0m:\u001b[36m591\u001b[0m - \u001b[1meval_file=PosixPath('/storage/hugo/geogiant/geogiant/common/../results/tier3_evaluation/results__best_hostname_geo_score.pickle') loaded\u001b[0m\n",
      "\u001b[32m2024-05-07 18:18:07.265\u001b[0m | \u001b[1mINFO    \u001b[0m | \u001b[36mplot\u001b[0m:\u001b[36mplot_ecs_shortest_ping\u001b[0m:\u001b[36m511\u001b[0m - \u001b[1mECS SP:: jaccard, <40km=0.8, None hostnames\u001b[0m\n",
      "\u001b[32m2024-05-07 18:18:07.266\u001b[0m | \u001b[1mINFO    \u001b[0m | \u001b[36mplot\u001b[0m:\u001b[36mplot_ecs_shortest_ping\u001b[0m:\u001b[36m514\u001b[0m - \u001b[1mECS SP:: jaccard, median_error=5.51 [km], None hostnames\u001b[0m\n",
      "\u001b[32m2024-05-07 18:18:07.268\u001b[0m | \u001b[1mINFO    \u001b[0m | \u001b[36mplot\u001b[0m:\u001b[36mplot_ecs_shortest_ping\u001b[0m:\u001b[36m511\u001b[0m - \u001b[1mECS SP:: jaccard, <40km=0.8, None hostnames\u001b[0m\n",
      "\u001b[32m2024-05-07 18:18:07.269\u001b[0m | \u001b[1mINFO    \u001b[0m | \u001b[36mplot\u001b[0m:\u001b[36mplot_ecs_shortest_ping\u001b[0m:\u001b[36m514\u001b[0m - \u001b[1mECS SP:: jaccard, median_error=6.06 [km], None hostnames\u001b[0m\n",
      "\u001b[32m2024-05-07 18:18:07.271\u001b[0m | \u001b[1mINFO    \u001b[0m | \u001b[36mplot\u001b[0m:\u001b[36mplot_ecs_shortest_ping\u001b[0m:\u001b[36m511\u001b[0m - \u001b[1mECS SP:: jaccard, <40km=0.78, None hostnames\u001b[0m\n",
      "\u001b[32m2024-05-07 18:18:07.273\u001b[0m | \u001b[1mINFO    \u001b[0m | \u001b[36mplot\u001b[0m:\u001b[36mplot_ecs_shortest_ping\u001b[0m:\u001b[36m514\u001b[0m - \u001b[1mECS SP:: jaccard, median_error=6.25 [km], None hostnames\u001b[0m\n",
      "\u001b[32m2024-05-07 18:18:07.274\u001b[0m | \u001b[1mINFO    \u001b[0m | \u001b[36mplot\u001b[0m:\u001b[36mplot_ecs_shortest_ping\u001b[0m:\u001b[36m511\u001b[0m - \u001b[1mECS SP:: jaccard, <40km=0.75, None hostnames\u001b[0m\n",
      "\u001b[32m2024-05-07 18:18:07.275\u001b[0m | \u001b[1mINFO    \u001b[0m | \u001b[36mplot\u001b[0m:\u001b[36mplot_ecs_shortest_ping\u001b[0m:\u001b[36m514\u001b[0m - \u001b[1mECS SP:: jaccard, median_error=8.02 [km], None hostnames\u001b[0m\n",
      "\u001b[32m2024-05-07 18:18:07.277\u001b[0m | \u001b[1mINFO    \u001b[0m | \u001b[36mplot\u001b[0m:\u001b[36mplot_ecs_shortest_ping\u001b[0m:\u001b[36m511\u001b[0m - \u001b[1mECS SP:: jaccard, <40km=0.7, None hostnames\u001b[0m\n",
      "\u001b[32m2024-05-07 18:18:07.278\u001b[0m | \u001b[1mINFO    \u001b[0m | \u001b[36mplot\u001b[0m:\u001b[36mplot_ecs_shortest_ping\u001b[0m:\u001b[36m514\u001b[0m - \u001b[1mECS SP:: jaccard, median_error=9.97 [km], None hostnames\u001b[0m\n",
      "\u001b[32m2024-05-07 18:18:07.280\u001b[0m | \u001b[1mINFO    \u001b[0m | \u001b[36mplot\u001b[0m:\u001b[36mplot_ecs_shortest_ping\u001b[0m:\u001b[36m511\u001b[0m - \u001b[1mECS SP:: jaccard, <40km=0.46, None hostnames\u001b[0m\n",
      "\u001b[32m2024-05-07 18:18:07.282\u001b[0m | \u001b[1mINFO    \u001b[0m | \u001b[36mplot\u001b[0m:\u001b[36mplot_ecs_shortest_ping\u001b[0m:\u001b[36m514\u001b[0m - \u001b[1mECS SP:: jaccard, median_error=62.4 [km], None hostnames\u001b[0m\n"
     ]
    }
   ],
   "source": [
    "score_metrics_and_granularity(\n",
    "    eval_file=path_settings.RESULTS_PATH\n",
    "    / \"tier3_evaluation/results__best_hostname_geo_score.pickle\",\n",
    "    output_path=\"vp_selection_evaluation\",\n",
    "    metric_evaluated=\"d_error\",\n",
    "    granularities=[\"answer_subnets\"],\n",
    "    score_metrics=[\"jaccard\"],\n",
    "    probing_budgets_evaluated=[1, 10, 20, 50, 100, 500],\n",
    "    plot_zp=False,\n",
    ")"
   ]
  }
 ],
 "metadata": {
  "kernelspec": {
   "display_name": "geogiant-pnmpKHwb-py3.10",
   "language": "python",
   "name": "python3"
  },
  "language_info": {
   "codemirror_mode": {
    "name": "ipython",
    "version": 3
   },
   "file_extension": ".py",
   "mimetype": "text/x-python",
   "name": "python",
   "nbconvert_exporter": "python",
   "pygments_lexer": "ipython3",
   "version": "3.10.12"
  }
 },
 "nbformat": 4,
 "nbformat_minor": 2
}
